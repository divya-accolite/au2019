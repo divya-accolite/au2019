{
 "cells": [
  {
   "cell_type": "code",
   "execution_count": 71,
   "metadata": {},
   "outputs": [],
   "source": [
    "from string import ascii_lowercase\n",
    "\n",
    "#calculates whether the number is odd or even\n",
    "def oddoreven (num):\n",
    "    if(num%2==0):\n",
    "        print(num,\" is even\")\n",
    "    else:\n",
    "        print(num,\" is odd\")\n",
    "\n",
    "#calculates whether the number is an armstrong number or not\n",
    "def isArmstrong (num):\n",
    "    length = len(str(num))\n",
    "    sum = 0\n",
    "    temp = num\n",
    "    while temp > 0:\n",
    "        digit = temp % 10\n",
    "        sum += digit ** length\n",
    "        temp //= 10\n",
    "\n",
    "    # display the result\n",
    "    if num == sum:\n",
    "        print(num,\"is an Armstrong number\")\n",
    "    else:\n",
    "        print(num,\"is not an Armstrong number\")\n",
    "\n",
    "\n",
    "\n",
    "value = {letter: str(index) for index, letter in enumerate(ascii_lowercase, start=1)} \n",
    "\n",
    "#function to check whether a string is palindrome or not\n",
    "def palindromefunction (wordlist):\n",
    "    for element in wordlist:\n",
    "        if(element.lower()==element[::-1].lower()):\n",
    "            print(element +\" is a palindrome\")\n",
    "            number = 0;\n",
    "            #calculate the alphabetical value for the string if it's palindrome\n",
    "            for letters in element:\n",
    "                number+=int(value[letters.lower()])\n",
    "            print(number)\n",
    "            oddoreven(number) #check odd or even\n",
    "            isArmstrong(number) #check whether the number is a armstrong number\n",
    "            \n",
    "        else:\n",
    "            print(element +\" is not a palindrome\")\n",
    "      \n",
    "        \n",
    "            \n"
   ]
  },
  {
   "cell_type": "code",
   "execution_count": 72,
   "metadata": {},
   "outputs": [
    {
     "name": "stdout",
     "output_type": "stream",
     "text": [
      "Accolite is not a palindrome\n",
      "Noon is a palindrome\n",
      "58\n",
      "58  is even\n",
      "58 is not an Armstrong number\n",
      "Bumper is not a palindrome\n",
      "Corporate is not a palindrome\n",
      "Malayalam is a palindrome\n",
      "79\n",
      "79  is odd\n",
      "79 is not an Armstrong number\n",
      "Madam is a palindrome\n",
      "32\n",
      "32  is even\n",
      "32 is not an Armstrong number\n",
      "Civic is a palindrome\n",
      "46\n",
      "46  is even\n",
      "46 is not an Armstrong number\n"
     ]
    }
   ],
   "source": [
    "words = ['Accolite','Noon','Bumper','Corporate','Malayalam','Madam','Civic']\n",
    "palindromefunction(words)"
   ]
  },
  {
   "cell_type": "code",
   "execution_count": 73,
   "metadata": {},
   "outputs": [],
   "source": [
    "#palindrome using lambda functions\n",
    "palindromeresult = list(filter(lambda x: (x.lower() == \"\".join(reversed(x.lower()))), words))  "
   ]
  },
  {
   "cell_type": "code",
   "execution_count": 79,
   "metadata": {},
   "outputs": [
    {
     "name": "stdout",
     "output_type": "stream",
     "text": [
      "The list of palindrome words are : \n",
      "\n",
      "['Noon', 'Malayalam', 'Madam', 'Civic']\n"
     ]
    }
   ],
   "source": [
    "print(\"The list of palindrome words are : \\n\")\n",
    "print(palindromeresult)"
   ]
  },
  {
   "cell_type": "code",
   "execution_count": 107,
   "metadata": {},
   "outputs": [
    {
     "name": "stdout",
     "output_type": "stream",
     "text": [
      "Word --> Noon\n",
      "Alphabetical value --> 58\n",
      "58  is Even\n",
      "This is not an Armstrong number \n",
      "\n",
      "\n",
      "\n",
      "Word --> Malayalam\n",
      "Alphabetical value --> 79\n",
      "79  is Odd\n",
      "This is not an Armstrong number \n",
      "\n",
      "\n",
      "\n",
      "Word --> Madam\n",
      "Alphabetical value --> 32\n",
      "32  is Even\n",
      "This is not an Armstrong number \n",
      "\n",
      "\n",
      "\n",
      "Word --> Civic\n",
      "Alphabetical value --> 46\n",
      "46  is Even\n",
      "This is not an Armstrong number \n",
      "\n",
      "\n",
      "\n"
     ]
    }
   ],
   "source": [
    "#dictionary for mapping alphabets with numbers from 1 to 26\n",
    "value = {letter: str(index) for index, letter in enumerate(ascii_lowercase, start=1)} \n",
    "\n",
    "#lambda function for odd or even\n",
    "oddoreven = lambda x: print(x,\" is Even\") if x % 2 == 0 else print(x,\" is Odd\")\n",
    "\n",
    "#lambda function for armstrong number\n",
    "checkarmstrong = lambda x,n: print(\"This is an Armstrong number\") if x == n else print(\"This is not an Armstrong number \")\n",
    "\n",
    "from functools import reduce\n",
    "\n",
    "for eachword in palindromeresult:\n",
    "    print(\"Word -->\",eachword)\n",
    "    eachword = [x.lower() for x in list(eachword)] #converting all the letters to lowercase\n",
    "  \n",
    "    alphavaluelist = list(map(lambda val: int(value[val]), eachword)) #mapping the corresponding values to alphabets\n",
    "\n",
    "    alphabeticalvalue= reduce((lambda x,y: x+y) , alphavaluelist) #summing up all the values of alphabets\n",
    "    print(\"Alphabetical value -->\",alphabeticalvalue)\n",
    "    \n",
    "    oddoreven(alphabeticalvalue)\n",
    "    \n",
    "    length = len(str(alphabeticalvalue))\n",
    "    armstronglist=list(map(lambda x:x**length,list(map(int,str(alphabeticalvalue)))))\n",
    "    checkarmstrong(sum(armstronglist) , length)\n",
    "    print(\"\\n\\n\")"
   ]
  },
  {
   "cell_type": "code",
   "execution_count": null,
   "metadata": {},
   "outputs": [],
   "source": []
  }
 ],
 "metadata": {
  "kernelspec": {
   "display_name": "Python 3",
   "language": "python",
   "name": "python3"
  },
  "language_info": {
   "codemirror_mode": {
    "name": "ipython",
    "version": 3
   },
   "file_extension": ".py",
   "mimetype": "text/x-python",
   "name": "python",
   "nbconvert_exporter": "python",
   "pygments_lexer": "ipython3",
   "version": "3.7.3"
  }
 },
 "nbformat": 4,
 "nbformat_minor": 2
}
