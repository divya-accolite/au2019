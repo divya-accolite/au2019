{
 "cells": [
  {
   "cell_type": "code",
   "execution_count": 8,
   "metadata": {
    "ExecuteTime": {
     "end_time": "2019-08-04T16:19:28.895932Z",
     "start_time": "2019-08-04T16:19:28.892983Z"
    }
   },
   "outputs": [],
   "source": [
    "import numpy as np\n",
    "import pandas as pd\n",
    "import re"
   ]
  },
  {
   "cell_type": "code",
   "execution_count": 9,
   "metadata": {
    "ExecuteTime": {
     "end_time": "2019-08-04T16:19:30.019914Z",
     "start_time": "2019-08-04T16:19:29.526129Z"
    }
   },
   "outputs": [],
   "source": [
    "def import_tweets(filename, header = None):\n",
    "    tweet_dataset = pd.read_csv(filename, encoding = 'utf-8', header = header)\n",
    "    tweet_dataset.columns = ['sentiment','id','date','flag','user','text']\n",
    "    #deleting flags,id,user, as they are not required for analysis\n",
    "    for i in ['flag','id','user','date']: del tweet_dataset[i] \n",
    "    #in the dataset, positive = 4, negative = 0; So, changing positive to 1\n",
    "    tweet_dataset.sentiment = tweet_dataset.sentiment.replace(4,1)\n",
    "    return tweet_dataset"
   ]
  },
  {
   "cell_type": "code",
   "execution_count": 10,
   "metadata": {
    "ExecuteTime": {
     "end_time": "2019-08-04T16:19:30.535160Z",
     "start_time": "2019-08-04T16:19:30.527188Z"
    }
   },
   "outputs": [],
   "source": [
    "def preprocess_tweet(tweet):\n",
    "    #convert the tweet to lower case\n",
    "    tweet.lower()\n",
    "    #convert all urls to sting \"URL\"\n",
    "    tweet = re.sub('((www\\.[^\\s]+)|(https?://[^\\s]+))','URL',tweet)\n",
    "    #convert all @username to \"AT_USER\"\n",
    "    tweet = re.sub('@[^\\s]+','AT_USER', tweet)\n",
    "    #correct all multiple white spaces to a single white space\n",
    "    tweet = re.sub('[\\s]+', ' ', tweet)\n",
    "    #removing hashtags\n",
    "    tweet = re.sub(r'#([^\\s]+)', r'\\1', tweet)\n",
    "    return tweet"
   ]
  },
  {
   "cell_type": "code",
   "execution_count": 13,
   "metadata": {
    "ExecuteTime": {
     "end_time": "2019-08-04T16:19:48.030313Z",
     "start_time": "2019-08-04T16:19:48.023370Z"
    }
   },
   "outputs": [],
   "source": [
    "def feature_extraction(data):\n",
    "    #using tf-idf for vectorizing text data\n",
    "    from sklearn.feature_extraction.text import TfidfVectorizer\n",
    "    tfv=TfidfVectorizer(sublinear_tf=True, stop_words = \"english\")\n",
    "    features=tfv.fit_transform(data)\n",
    "    return features"
   ]
  },
  {
   "cell_type": "code",
   "execution_count": 26,
   "metadata": {
    "ExecuteTime": {
     "end_time": "2019-08-04T16:38:29.543390Z",
     "start_time": "2019-08-04T16:38:29.536408Z"
    }
   },
   "outputs": [],
   "source": [
    "def train_classifier(feature_train, target_train,feature_test, target_test):\n",
    "    from sklearn.metrics import roc_auc_score \n",
    "    from sklearn.linear_model import LogisticRegression\n",
    "    model = LogisticRegression(C=1.)\n",
    "    #fit model to data\n",
    "    model.fit(feature_train, target_train)\n",
    "    #make prediction on the same (train) data\n",
    "    probability_to_be_positive = model.predict_proba(feature_train)[:,1]\n",
    "    #check AUC(Area Under the Roc Curve) \n",
    "    print (\"auc on train data:\" , roc_auc_score(target_train, probability_to_be_positive))\n",
    "    \n",
    "    #make prediction on the test data\n",
    "    probability_to_be_positive = model.predict_proba(feature_test)[:,1]\n",
    "    #check AUC(Area Under the Roc Curve) \n",
    "    print (\"auc on test data:\" , roc_auc_score(target_test, probability_to_be_positive))"
   ]
  },
  {
   "cell_type": "code",
   "execution_count": 27,
   "metadata": {
    "ExecuteTime": {
     "end_time": "2019-08-04T16:38:58.681794Z",
     "start_time": "2019-08-04T16:38:30.553967Z"
    }
   },
   "outputs": [],
   "source": [
    "#apply the preprocess function for all the tweets in the dataset\n",
    "tweet_dataset = import_tweets(\"traintwitter.csv\")\n",
    "tweet_dataset['text'] = tweet_dataset['text'].apply(preprocess_tweet)\n",
    "data = np.array(tweet_dataset.text)\n",
    "label = np.array(tweet_dataset.sentiment)\n",
    "features = feature_extraction(data)\n"
   ]
  },
  {
   "cell_type": "code",
   "execution_count": 28,
   "metadata": {
    "ExecuteTime": {
     "end_time": "2019-08-04T16:38:59.328749Z",
     "start_time": "2019-08-04T16:38:58.683246Z"
    }
   },
   "outputs": [],
   "source": [
    "from sklearn.model_selection import train_test_split\n",
    "#splitting dataset into trainiing and testing\n",
    "feature_train, feature_test, target_train, target_test = train_test_split(features, label, test_size=0.3, random_state=0)"
   ]
  },
  {
   "cell_type": "code",
   "execution_count": 29,
   "metadata": {
    "ExecuteTime": {
     "end_time": "2019-08-04T16:39:10.498753Z",
     "start_time": "2019-08-04T16:38:59.330596Z"
    }
   },
   "outputs": [
    {
     "name": "stderr",
     "output_type": "stream",
     "text": [
      "C:\\Users\\divya\\AppData\\Local\\Continuum\\anaconda3\\lib\\site-packages\\sklearn\\linear_model\\logistic.py:433: FutureWarning: Default solver will be changed to 'lbfgs' in 0.22. Specify a solver to silence this warning.\n",
      "  FutureWarning)\n"
     ]
    },
    {
     "name": "stdout",
     "output_type": "stream",
     "text": [
      "auc on train data: 0.8855855352726824\n",
      "auc on test data: 0.8592795832598463\n"
     ]
    }
   ],
   "source": [
    "train_classifier(feature_train, target_train,feature_test, target_test)\n"
   ]
  },
  {
   "cell_type": "code",
   "execution_count": null,
   "metadata": {},
   "outputs": [],
   "source": []
  }
 ],
 "metadata": {
  "kernelspec": {
   "display_name": "Python 3",
   "language": "python",
   "name": "python3"
  },
  "language_info": {
   "codemirror_mode": {
    "name": "ipython",
    "version": 3
   },
   "file_extension": ".py",
   "mimetype": "text/x-python",
   "name": "python",
   "nbconvert_exporter": "python",
   "pygments_lexer": "ipython3",
   "version": "3.7.3"
  },
  "toc": {
   "base_numbering": 1,
   "nav_menu": {},
   "number_sections": true,
   "sideBar": true,
   "skip_h1_title": false,
   "title_cell": "Table of Contents",
   "title_sidebar": "Contents",
   "toc_cell": false,
   "toc_position": {},
   "toc_section_display": true,
   "toc_window_display": false
  }
 },
 "nbformat": 4,
 "nbformat_minor": 2
}
