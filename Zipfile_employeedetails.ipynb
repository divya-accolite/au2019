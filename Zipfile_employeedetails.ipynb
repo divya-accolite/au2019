{
 "cells": [
  {
   "cell_type": "code",
   "execution_count": 1,
   "metadata": {},
   "outputs": [],
   "source": [
    "#Assignment 1 : Zip file extraction and printing all the contents of the files inside the zip file\n",
    "import zipfile\n"
   ]
  },
  {
   "cell_type": "code",
   "execution_count": 7,
   "metadata": {},
   "outputs": [
    {
     "name": "stdout",
     "output_type": "stream",
     "text": [
      "['one.txt', 'three.txt', 'two.txt']\n"
     ]
    }
   ],
   "source": [
    "with zipfile.ZipFile('zippy.zip') as file:\n",
    "    filelist = file.namelist()\n",
    "    print(filelist)\n",
    "    file.extractall()"
   ]
  },
  {
   "cell_type": "code",
   "execution_count": 11,
   "metadata": {},
   "outputs": [
    {
     "name": "stdout",
     "output_type": "stream",
     "text": [
      "Filename  -- one.txt \n",
      "\n",
      "Hii this is the first file\n",
      "and i am divya \n",
      "\n",
      "Filename  -- three.txt \n",
      "\n",
      "awww,\n",
      "the third one..\n",
      "bye \n",
      "\n",
      "Filename  -- two.txt \n",
      "\n",
      "HOO OOOOOHHH\n",
      "this is the second file\n",
      "and i am so excited \n",
      "\n"
     ]
    }
   ],
   "source": [
    "for files in filelist:\n",
    "    print(\"Filename  --\",files,\"\\n\")\n",
    "    f=open(files, \"r\")\n",
    "    if f.mode == 'r': \n",
    "        contents =f.read()\n",
    "    print(contents,\"\\n\")"
   ]
  },
  {
   "cell_type": "code",
   "execution_count": null,
   "metadata": {},
   "outputs": [],
   "source": [
    "#Assignment 2 : csv file with data employee\n",
    "#and sort it by emp id\n",
    "#two arrays having roll no and names\n",
    "#class of roll no and name and create array of class \n",
    "\n"
   ]
  }
 ],
 "metadata": {
  "kernelspec": {
   "display_name": "Python 3",
   "language": "python",
   "name": "python3"
  },
  "language_info": {
   "codemirror_mode": {
    "name": "ipython",
    "version": 3
   },
   "file_extension": ".py",
   "mimetype": "text/x-python",
   "name": "python",
   "nbconvert_exporter": "python",
   "pygments_lexer": "ipython3",
   "version": "3.7.3"
  }
 },
 "nbformat": 4,
 "nbformat_minor": 2
}
