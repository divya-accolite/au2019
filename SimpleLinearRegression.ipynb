{
 "cells": [
  {
   "cell_type": "code",
   "execution_count": 72,
   "metadata": {},
   "outputs": [],
   "source": [
    "import numpy as np"
   ]
  },
  {
   "cell_type": "code",
   "execution_count": 73,
   "metadata": {},
   "outputs": [],
   "source": [
    "#function to calculate the slope and intercept\n",
    "def calculatecoefficients(x,y):\n",
    "    \n",
    "    # mean of x and y vector \n",
    "    x_mean, y_mean = np.mean(x), np.mean(y)\n",
    "    print(\"x mean -->\",x_mean,\" \\ny mean -->\", y_mean)\n",
    "    \n",
    "    #Calculating slope(Theta 1)\n",
    "    Theta1_numerator = np.sum((x-x_mean) * (y-y_mean))\n",
    "    Theta1_denominator = np.sum((x-x_mean)*(x-x_mean))\n",
    "    \n",
    "    Theta1 = Theta1_numerator / Theta1_denominator #Slope\n",
    "    Theta0 = y_mean - (Theta1*x_mean) #Intercept - Theta0\n",
    "    print(\"Slope -->\",Theta1,\" \\nIntercept -->\",Theta0)\n",
    "    return Theta1,Theta0"
   ]
  },
  {
   "cell_type": "code",
   "execution_count": 74,
   "metadata": {},
   "outputs": [],
   "source": [
    "def predict(slope,intercept,x,y):\n",
    "    y_predictmap = map(lambda x:((slope*x)+intercept),x) #linear regression formula\n",
    "    y_predicted = np.array(list(y_predictmap))\n",
    "    print(\"Predicted y values --->\",y_predicted)\n",
    "    return y_predicted"
   ]
  },
  {
   "cell_type": "code",
   "execution_count": 75,
   "metadata": {},
   "outputs": [],
   "source": [
    "def calculatemse(y,y_predicted):\n",
    "     #n has the number of records\n",
    "    n = np.size(y)\n",
    "    print(\"Y's length -->\",n)\n",
    "    \n",
    "    numerator = np.sum((y-y_predicted)*(y-y_predicted))\n",
    "    mse = (numerator) / n\n",
    "    print(\"Mean Squared Error -->\",mse)"
   ]
  },
  {
   "cell_type": "code",
   "execution_count": 76,
   "metadata": {},
   "outputs": [
    {
     "name": "stdout",
     "output_type": "stream",
     "text": [
      "x mean --> 4.5  \n",
      "y mean --> 6.5\n",
      "Slope --> 1.1696969696969697  \n",
      "Intercept --> 1.2363636363636363\n",
      "Predicted y values ---> [ 1.23636364  2.40606061  3.57575758  4.74545455  5.91515152  7.08484848\n",
      "  8.25454545  9.42424242 10.59393939 11.76363636]\n",
      "Y's length --> 10\n",
      "Mean Squared Error --> 0.5624242424242423\n"
     ]
    }
   ],
   "source": [
    "x = np.array([0, 1, 2, 3, 4, 5, 6, 7, 8, 9]) \n",
    "y = np.array([1, 3, 2, 5, 7, 8, 8, 9, 10, 12])\n",
    "\n",
    "Slope,Intercept = calculatecoefficients(x,y)\n",
    "\n",
    "y_predicted = predict(Slope,Intercept,x,y)\n",
    "\n",
    "calculatemse(y,y_predicted)\n"
   ]
  },
  {
   "cell_type": "code",
   "execution_count": 85,
   "metadata": {},
   "outputs": [],
   "source": [
    "#plot\n",
    "import matplotlib.pyplot as plt \n",
    "def pltRegressionLine(x,y,y_predicted,Slope,Intercept):\n",
    "     # plotting the actual points as scatter plot \n",
    "    plt.scatter(x, y, color = \"k\", \n",
    "               marker = \"o\", s = 30) \n",
    "  \n",
    "    # plotting the regression line \n",
    "    plt.plot(x, y_predicted, color = \"b\") \n",
    "  \n",
    "    # putting labels \n",
    "    plt.xlabel('Independent variable X') \n",
    "    plt.ylabel('Dependent Variable Y') \n",
    "  \n",
    "    # function to show plot \n",
    "    plt.show() "
   ]
  },
  {
   "cell_type": "code",
   "execution_count": 86,
   "metadata": {},
   "outputs": [
    {
     "data": {
      "image/png": "[encoded data removed]",
      "text/plain": [
       "<Figure size 432x288 with 1 Axes>"
      ]
     },
     "metadata": {
      "needs_background": "light"
     },
     "output_type": "display_data"
    }
   ],
   "source": [
    "pltRegressionLine(x,y,y_predicted,Slope,Intercept)"
   ]
  },
  {
   "cell_type": "code",
   "execution_count": null,
   "metadata": {},
   "outputs": [],
   "source": []
  }
 ],
 "metadata": {
  "kernelspec": {
   "display_name": "Python 3",
   "language": "python",
   "name": "python3"
  },
  "language_info": {
   "codemirror_mode": {
    "name": "ipython",
    "version": 3
   },
   "file_extension": ".py",
   "mimetype": "text/x-python",
   "name": "python",
   "nbconvert_exporter": "python",
   "pygments_lexer": "ipython3",
   "version": "3.7.3"
  }
 },
 "nbformat": 4,
 "nbformat_minor": 2
}
