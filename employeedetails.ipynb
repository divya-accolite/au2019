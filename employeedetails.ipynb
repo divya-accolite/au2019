{
 "cells": [
  {
   "cell_type": "code",
   "execution_count": 1,
   "metadata": {},
   "outputs": [],
   "source": [
    "#Assignment 1 : Zip file extraction and printing all the contents of the files inside the zip file\n",
    "import zipfile\n"
   ]
  },
  {
   "cell_type": "code",
   "execution_count": 7,
   "metadata": {},
   "outputs": [
    {
     "name": "stdout",
     "output_type": "stream",
     "text": [
      "['one.txt', 'three.txt', 'two.txt']\n"
     ]
    }
   ],
   "source": [
    "with zipfile.ZipFile('zippy.zip') as file:\n",
    "    filelist = file.namelist()\n",
    "    print(filelist)\n",
    "    file.extractall()"
   ]
  },
  {
   "cell_type": "code",
   "execution_count": 11,
   "metadata": {},
   "outputs": [
    {
     "name": "stdout",
     "output_type": "stream",
     "text": [
      "Filename  -- one.txt \n",
      "\n",
      "Hii this is the first file\n",
      "and i am divya \n",
      "\n",
      "Filename  -- three.txt \n",
      "\n",
      "awww,\n",
      "the third one..\n",
      "bye \n",
      "\n",
      "Filename  -- two.txt \n",
      "\n",
      "HOO OOOOOHHH\n",
      "this is the second file\n",
      "and i am so excited \n",
      "\n"
     ]
    }
   ],
   "source": [
    "for files in filelist:\n",
    "    print(\"Filename  --\",files,\"\\n\")\n",
    "    f=open(files, \"r\")\n",
    "    if f.mode == 'r': \n",
    "        contents =f.read()\n",
    "    print(contents,\"\\n\")"
   ]
  },
  {
   "cell_type": "code",
   "execution_count": 19,
   "metadata": {},
   "outputs": [
    {
     "data": {
      "text/plain": [
       "1817281491888938"
      ]
     },
     "execution_count": 19,
     "metadata": {},
     "output_type": "execute_result"
    }
   ],
   "source": [
    "#generating a 16 digit random number\n",
    "import random\n",
    "random.randint(1000000000000000,9999999999999999)"
   ]
  },
  {
   "cell_type": "code",
   "execution_count": 12,
   "metadata": {},
   "outputs": [
    {
     "data": {
      "text/html": [
       "<div>\n",
       "<style scoped>\n",
       "    .dataframe tbody tr th:only-of-type {\n",
       "        vertical-align: middle;\n",
       "    }\n",
       "\n",
       "    .dataframe tbody tr th {\n",
       "        vertical-align: top;\n",
       "    }\n",
       "\n",
       "    .dataframe thead th {\n",
       "        text-align: right;\n",
       "    }\n",
       "</style>\n",
       "<table border=\"1\" class=\"dataframe\">\n",
       "  <thead>\n",
       "    <tr style=\"text-align: right;\">\n",
       "      <th></th>\n",
       "      <th>id</th>\n",
       "      <th>name</th>\n",
       "      <th>department</th>\n",
       "      <th>dob</th>\n",
       "    </tr>\n",
       "  </thead>\n",
       "  <tbody>\n",
       "    <tr>\n",
       "      <th>0</th>\n",
       "      <td>34</td>\n",
       "      <td>div</td>\n",
       "      <td>finance</td>\n",
       "      <td>28/11/97</td>\n",
       "    </tr>\n",
       "    <tr>\n",
       "      <th>1</th>\n",
       "      <td>54</td>\n",
       "      <td>arav</td>\n",
       "      <td>hr</td>\n",
       "      <td>17/06/93</td>\n",
       "    </tr>\n",
       "    <tr>\n",
       "      <th>2</th>\n",
       "      <td>33</td>\n",
       "      <td>sravya</td>\n",
       "      <td>development</td>\n",
       "      <td>23/08/97</td>\n",
       "    </tr>\n",
       "    <tr>\n",
       "      <th>3</th>\n",
       "      <td>21</td>\n",
       "      <td>dhruv</td>\n",
       "      <td>finance</td>\n",
       "      <td>04/11/98</td>\n",
       "    </tr>\n",
       "    <tr>\n",
       "      <th>4</th>\n",
       "      <td>67</td>\n",
       "      <td>bala</td>\n",
       "      <td>finance</td>\n",
       "      <td>29/01/95</td>\n",
       "    </tr>\n",
       "  </tbody>\n",
       "</table>\n",
       "</div>"
      ],
      "text/plain": [
       "   id    name   department       dob\n",
       "0  34     div      finance  28/11/97\n",
       "1  54    arav           hr  17/06/93\n",
       "2  33  sravya  development  23/08/97\n",
       "3  21   dhruv      finance  04/11/98\n",
       "4  67    bala      finance  29/01/95"
      ]
     },
     "execution_count": 12,
     "metadata": {},
     "output_type": "execute_result"
    }
   ],
   "source": [
    "#Assignment 2 : csv file with data employee\n",
    "#and sort it by emp id\n",
    "#two arrays having roll no and names\n",
    "#class of roll no and name and create array of class \n",
    "import pandas as pd\n",
    "data = pd.read_csv(\"employeedetails.csv\")\n",
    "data.head()"
   ]
  },
  {
   "cell_type": "code",
   "execution_count": 16,
   "metadata": {},
   "outputs": [
    {
     "data": {
      "text/html": [
       "<div>\n",
       "<style scoped>\n",
       "    .dataframe tbody tr th:only-of-type {\n",
       "        vertical-align: middle;\n",
       "    }\n",
       "\n",
       "    .dataframe tbody tr th {\n",
       "        vertical-align: top;\n",
       "    }\n",
       "\n",
       "    .dataframe thead th {\n",
       "        text-align: right;\n",
       "    }\n",
       "</style>\n",
       "<table border=\"1\" class=\"dataframe\">\n",
       "  <thead>\n",
       "    <tr style=\"text-align: right;\">\n",
       "      <th></th>\n",
       "      <th>id</th>\n",
       "      <th>name</th>\n",
       "      <th>department</th>\n",
       "      <th>dob</th>\n",
       "    </tr>\n",
       "  </thead>\n",
       "  <tbody>\n",
       "    <tr>\n",
       "      <th>3</th>\n",
       "      <td>21</td>\n",
       "      <td>dhruv</td>\n",
       "      <td>finance</td>\n",
       "      <td>04/11/98</td>\n",
       "    </tr>\n",
       "    <tr>\n",
       "      <th>2</th>\n",
       "      <td>33</td>\n",
       "      <td>sravya</td>\n",
       "      <td>development</td>\n",
       "      <td>23/08/97</td>\n",
       "    </tr>\n",
       "    <tr>\n",
       "      <th>0</th>\n",
       "      <td>34</td>\n",
       "      <td>div</td>\n",
       "      <td>finance</td>\n",
       "      <td>28/11/97</td>\n",
       "    </tr>\n",
       "    <tr>\n",
       "      <th>1</th>\n",
       "      <td>54</td>\n",
       "      <td>arav</td>\n",
       "      <td>hr</td>\n",
       "      <td>17/06/93</td>\n",
       "    </tr>\n",
       "    <tr>\n",
       "      <th>6</th>\n",
       "      <td>55</td>\n",
       "      <td>mala</td>\n",
       "      <td>hr</td>\n",
       "      <td>04/04/97</td>\n",
       "    </tr>\n",
       "    <tr>\n",
       "      <th>8</th>\n",
       "      <td>56</td>\n",
       "      <td>vaga</td>\n",
       "      <td>hr</td>\n",
       "      <td>03/12/96</td>\n",
       "    </tr>\n",
       "    <tr>\n",
       "      <th>4</th>\n",
       "      <td>67</td>\n",
       "      <td>bala</td>\n",
       "      <td>finance</td>\n",
       "      <td>29/01/95</td>\n",
       "    </tr>\n",
       "    <tr>\n",
       "      <th>7</th>\n",
       "      <td>87</td>\n",
       "      <td>siva</td>\n",
       "      <td>hr</td>\n",
       "      <td>02/09/98</td>\n",
       "    </tr>\n",
       "    <tr>\n",
       "      <th>5</th>\n",
       "      <td>234</td>\n",
       "      <td>dharshna</td>\n",
       "      <td>hr</td>\n",
       "      <td>03/06/95</td>\n",
       "    </tr>\n",
       "  </tbody>\n",
       "</table>\n",
       "</div>"
      ],
      "text/plain": [
       "    id      name   department       dob\n",
       "3   21     dhruv      finance  04/11/98\n",
       "2   33    sravya  development  23/08/97\n",
       "0   34       div      finance  28/11/97\n",
       "1   54      arav           hr  17/06/93\n",
       "6   55      mala           hr  04/04/97\n",
       "8   56      vaga           hr  03/12/96\n",
       "4   67      bala      finance  29/01/95\n",
       "7   87      siva           hr  02/09/98\n",
       "5  234  dharshna           hr  03/06/95"
      ]
     },
     "execution_count": 16,
     "metadata": {},
     "output_type": "execute_result"
    }
   ],
   "source": [
    "data.sort_values(by=[\"id\"])"
   ]
  },
  {
   "cell_type": "code",
   "execution_count": 1,
   "metadata": {},
   "outputs": [],
   "source": [
    "Rollno = [1600, 1611,1623,1604,1701,1103,1620,1650,1688]\n",
    "Name = ['a','b','c','d','e','f','g','h','i']\n"
   ]
  },
  {
   "cell_type": "code",
   "execution_count": 2,
   "metadata": {},
   "outputs": [],
   "source": [
    "class Empdetails:\n",
    "    def __init__(self, rollno, name):\n",
    "        self.name = name\n",
    "        self.rollno = rollno"
   ]
  },
  {
   "cell_type": "code",
   "execution_count": 4,
   "metadata": {},
   "outputs": [],
   "source": [
    "#for roll,nam in zip(Rollno,Name):\n",
    "    \n",
    "instancelist =  [Empdetails(roll,nam) for roll,nam in zip(Rollno,Name)] "
   ]
  },
  {
   "cell_type": "code",
   "execution_count": 18,
   "metadata": {},
   "outputs": [
    {
     "name": "stdout",
     "output_type": "stream",
     "text": [
      "1600 a\n",
      "1611 b\n",
      "1623 c\n",
      "1604 d\n",
      "1701 e\n",
      "1103 f\n",
      "1620 g\n",
      "1650 h\n",
      "1688 i\n"
     ]
    }
   ],
   "source": [
    "for i in range(9):\n",
    "    print(instancelist[i].rollno, instancelist[i].name)"
   ]
  },
  {
   "cell_type": "code",
   "execution_count": null,
   "metadata": {},
   "outputs": [],
   "source": []
  },
  {
   "cell_type": "code",
   "execution_count": null,
   "metadata": {},
   "outputs": [],
   "source": []
  },
  {
   "cell_type": "code",
   "execution_count": null,
   "metadata": {},
   "outputs": [],
   "source": []
  }
 ],
 "metadata": {
  "kernelspec": {
   "display_name": "Python 3",
   "language": "python",
   "name": "python3"
  },
  "language_info": {
   "codemirror_mode": {
    "name": "ipython",
    "version": 3
   },
   "file_extension": ".py",
   "mimetype": "text/x-python",
   "name": "python",
   "nbconvert_exporter": "python",
   "pygments_lexer": "ipython3",
   "version": "3.7.3"
  }
 },
 "nbformat": 4,
 "nbformat_minor": 2
}
